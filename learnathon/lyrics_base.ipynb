{
  "nbformat": 4,
  "nbformat_minor": 0,
  "metadata": {
    "colab": {
      "name": "lyrics_base.ipynb",
      "provenance": []
    },
    "kernelspec": {
      "name": "python3",
      "display_name": "Python 3"
    },
    "language_info": {
      "name": "python"
    },
    "accelerator": "GPU",
    "gpuClass": "standard"
  },
  "cells": [
    {
      "cell_type": "markdown",
      "source": [
        "# NLG Project: Making your own lyrics model"
      ],
      "metadata": {
        "id": "SdKP7hjD8oHL"
      }
    },
    {
      "cell_type": "markdown",
      "source": [
        "###Step 1. Make sure you have the data!"
      ],
      "metadata": {
        "id": "I1xWfuNY881d"
      }
    },
    {
      "cell_type": "code",
      "source": [
        "# use the os library with getcwd() method"
      ],
      "metadata": {
        "id": "xUp_02LN_25G"
      },
      "execution_count": null,
      "outputs": []
    },
    {
      "cell_type": "code",
      "source": [
        "import os\n",
        "print(os.getcwd())\n",
        "os.chdir('sample_data')\n",
        "print(os.getcwd())\n",
        "print(os.listdir())\n",
        "os.chdir('..')"
      ],
      "metadata": {
        "id": "Z4pqRYKy9D62",
        "outputId": "ea555056-e20c-405e-a824-a10a716c553a",
        "colab": {
          "base_uri": "https://localhost:8080/"
        }
      },
      "execution_count": 1,
      "outputs": [
        {
          "output_type": "stream",
          "name": "stdout",
          "text": [
            "/content\n",
            "/content/sample_data\n",
            "['anscombe.json', 'README.md', 'artists-data.csv', 'lyrics-data.csv', 'california_housing_train.csv', 'mnist_train_small.csv', 'mnist_test.csv', 'california_housing_test.csv']\n"
          ]
        }
      ]
    },
    {
      "cell_type": "markdown",
      "source": [
        "###Step 2: Setup fastai, then import fastai and pandas."
      ],
      "metadata": {
        "id": "5Mms-Pfi9c3-"
      }
    },
    {
      "cell_type": "code",
      "metadata": {
        "id": "pBsJsHAcDzxs"
      },
      "source": [
        "!pip install -Uqq fastbook\n",
        "import fastbook\n",
        "fastbook.setup_book()"
      ],
      "execution_count": 2,
      "outputs": []
    },
    {
      "cell_type": "code",
      "metadata": {
        "id": "UUlT9WyOD1gl"
      },
      "source": [
        "from fastbook import *\n",
        "from fastai.text.all import *"
      ],
      "execution_count": 3,
      "outputs": []
    },
    {
      "cell_type": "code",
      "metadata": {
        "id": "RGrbEYvvD7Kt"
      },
      "source": [
        "import pandas as pd"
      ],
      "execution_count": 4,
      "outputs": []
    },
    {
      "cell_type": "markdown",
      "metadata": {
        "id": "7yP5gfuRE5hx"
      },
      "source": [
        "### Step 3: Preprocess Data."
      ]
    },
    {
      "cell_type": "code",
      "source": [
        "# read in the data"
      ],
      "metadata": {
        "id": "6gk7eXf3_KnT"
      },
      "execution_count": 5,
      "outputs": []
    },
    {
      "cell_type": "code",
      "source": [
        "# check the data format"
      ],
      "metadata": {
        "id": "CMpUqg0u_N8G"
      },
      "execution_count": 6,
      "outputs": []
    },
    {
      "cell_type": "code",
      "source": [
        "# rename the columns to align on a specific 'key'\n",
        "\n",
        "# merge the data (similar to an inner join in SQL)"
      ],
      "metadata": {
        "id": "BEW8zmyA_PaF"
      },
      "execution_count": 7,
      "outputs": []
    },
    {
      "cell_type": "code",
      "source": [
        "# get only english artists and relevant columns"
      ],
      "metadata": {
        "id": "Bc7hCpKS_e4F"
      },
      "execution_count": 8,
      "outputs": []
    },
    {
      "cell_type": "code",
      "source": [
        "# drop all duplicate songs and reset the index "
      ],
      "metadata": {
        "id": "PPrmSF6h_pMv"
      },
      "execution_count": 9,
      "outputs": []
    },
    {
      "cell_type": "code",
      "metadata": {
        "id": "dSg3KRV4EVj2",
        "outputId": "bf443251-e958-4068-fb89-075391913a29",
        "colab": {
          "base_uri": "https://localhost:8080/",
          "height": 528
        }
      },
      "source": [
        "# read and combine the data\n",
        "import csv\n",
        "# hacky workaround - not really sure why this works\n",
        "# lyrics_data = pd.read_csv('sample_data/lyrics-data.csv', quoting=csv.QUOTE_NONE, error_bad_lines=False)\n",
        "lyrics_data = pd.read_csv('sample_data/lyrics-data.csv')\n",
        "lyrics_data.rename(columns={\"ALink\": \"Link\"}, inplace=True)\n",
        "artist_data = pd.read_csv('sample_data/artists-data.csv')\n",
        "print(artist_data.columns, lyrics_data.columns)\n",
        "merged_dfs = lyrics_data.merge(artist_data, how='inner', on='Link')\n",
        "eng_artists = merged_dfs.loc[merged_dfs['language'] == 'en', ['Artist', 'SName', 'Lyric', 'Genres']].drop_duplicates(subset=['SName'])\n",
        "eng_artists.reset_index(inplace=True, drop=True)\n",
        "eng_artists.head()"
      ],
      "execution_count": 10,
      "outputs": [
        {
          "output_type": "stream",
          "name": "stdout",
          "text": [
            "Index(['Artist', 'Genres', 'Songs', 'Popularity', 'Link'], dtype='object') Index(['Link', 'SName', 'SLink', 'Lyric', 'language'], dtype='object')\n"
          ]
        },
        {
          "output_type": "execute_result",
          "data": {
            "text/plain": [
              "          Artist                                                  SName  \\\n",
              "0  Ivete Sangalo                                       Careless Whisper   \n",
              "1  Ivete Sangalo  Could You Be Loved / Citação Musical do Rap: Se Ligue   \n",
              "2  Ivete Sangalo                                 Cruisin' (Part. Saulo)   \n",
              "3  Ivete Sangalo                                                   Easy   \n",
              "4  Ivete Sangalo                      For Your Babies (The Voice cover)   \n",
              "\n",
              "                                                                                                                                                                                                                                                                                                                                                                                                                                                                                                                                                                                                                     Lyric  \\\n",
              "0  I feel so unsure\\nAs I take your hand and lead you to the dance floor\\nAs the music dies, something in your eyes\\nCalls to mind a silver screen\\nAnd all those sad goodbyes\\n\\nI'm never gonna dance again\\nGuilty feet have got no rhythm\\nThough it's easy to pretend\\nI know you're not a fool\\n\\nShould've known better than to cheat a friend\\nAnd waste the chance that I've been given\\nSo I'm never gonna dance again\\nThe way I danced with you\\n\\nTime can never mend\\nThe careless whispers of a good friend\\nTo the heart and mind\\nIgnorance is kind\\nThere's no comfort in the truth\\nPain is all you'...   \n",
              "1  Don't let them fool, ya\\nOr even try to school, ya! Oh, no!\\nWe've got a mind of our own\\nSo go to hell if what you? re thinking is not right!\\nLove would never leave us alone\\nA-yin the darkness there must come out to light\\n\\nCould you be loved and be loved?\\nCould you be loved and be loved?\\n\\nDon't let them change ya, oh!\\nOr even rearrange ya! Oh, no!\\nWe've got a life to live\\nThey say: only, only\\nOnly the fittest of the fittest shall survive\\nStay alive! Oh!\\n\\nCould you be loved and be loved?\\nCould you be loved, wo now! And be loved?\\n\\nCould you be\\nCould you be\\nCould you be lo...   \n",
              "2  Baby, let's cruise, away from here\\nDon't be confused, the way is clear\\nAnd if you want it you got it forever\\nThis is not a one night stand, baby\\n\\nLet the music take your mind\\nJust release & you will find\\nYou're gonna fly away\\nGlad you're goin' my way\\nI love it when we're cruisin' together\\nMusic is played for love\\nCruisin' is made for love\\nI love it when we're cruisin' together\\n\\nBaby, tonight belongs to us\\nEverything's right, do what you must\\nAnd inch by inch we get closer & closer\\n\\nTo every little part of each other, ooh, baby, yeah, so\\n\\nLet the music take your mind\\nJu...   \n",
              "3  Know it sounds funny\\nBut, I just can't stand the pain\\nGirl, I'm leaving you tomorrow\\nSeems to me girl\\nYou know I've done all I can\\nYou see I begged, stole and I borrowed! (yeah)\\n\\nOoh, that's why I'm easy\\nI'm easy like Sunday morning\\nThat's why I'm easy\\nI'm easy like Sunday morning\\n\\nWhy in the world would anybody put chains on me?\\nI've paid my dues to make it\\nEverybody wants me to be\\nWhat they want me to be\\nI'm not happy when I try to fake it! no!\\n\\nOoh, that's why I'm easy\\nI'm easy like Sunday morning, yeah\\nThat's why I'm easy\\nI'm easy like Sunday morning\\n\\nI wanna be ...   \n",
              "4  You've got that look again\\nThe one I hoped I had when I was a lad\\nYour face is just beaming\\nYour smile got me boasting\\nMy pulse roller-coastering\\n\\nAnyway the four winds that blow\\nThey're gonna send me sailing home to you\\nOr I'll fly with the force of a rainbow\\nThe dream of gold will be waiting in your eyes\\n\\nYou know I'd do most anything you want\\nHey, I, I try to give you everything you need\\nI can see that it gets to you\\n\\nI don't believe in many things\\nBut in you, I do\\n\\nHer faith is amazing\\nThe pain that she goes through\\nContained in the hope for you\\nYour whole world ha...   \n",
              "\n",
              "                Genres  \n",
              "0  Pop; Axé; Romântico  \n",
              "1  Pop; Axé; Romântico  \n",
              "2  Pop; Axé; Romântico  \n",
              "3  Pop; Axé; Romântico  \n",
              "4  Pop; Axé; Romântico  "
            ],
            "text/html": [
              "\n",
              "  <div id=\"df-73c34dd7-6ad9-4478-b83e-408045ff8932\">\n",
              "    <div class=\"colab-df-container\">\n",
              "      <div>\n",
              "<style scoped>\n",
              "    .dataframe tbody tr th:only-of-type {\n",
              "        vertical-align: middle;\n",
              "    }\n",
              "\n",
              "    .dataframe tbody tr th {\n",
              "        vertical-align: top;\n",
              "    }\n",
              "\n",
              "    .dataframe thead th {\n",
              "        text-align: right;\n",
              "    }\n",
              "</style>\n",
              "<table border=\"1\" class=\"dataframe\">\n",
              "  <thead>\n",
              "    <tr style=\"text-align: right;\">\n",
              "      <th></th>\n",
              "      <th>Artist</th>\n",
              "      <th>SName</th>\n",
              "      <th>Lyric</th>\n",
              "      <th>Genres</th>\n",
              "    </tr>\n",
              "  </thead>\n",
              "  <tbody>\n",
              "    <tr>\n",
              "      <th>0</th>\n",
              "      <td>Ivete Sangalo</td>\n",
              "      <td>Careless Whisper</td>\n",
              "      <td>I feel so unsure\\nAs I take your hand and lead you to the dance floor\\nAs the music dies, something in your eyes\\nCalls to mind a silver screen\\nAnd all those sad goodbyes\\n\\nI'm never gonna dance again\\nGuilty feet have got no rhythm\\nThough it's easy to pretend\\nI know you're not a fool\\n\\nShould've known better than to cheat a friend\\nAnd waste the chance that I've been given\\nSo I'm never gonna dance again\\nThe way I danced with you\\n\\nTime can never mend\\nThe careless whispers of a good friend\\nTo the heart and mind\\nIgnorance is kind\\nThere's no comfort in the truth\\nPain is all you'...</td>\n",
              "      <td>Pop; Axé; Romântico</td>\n",
              "    </tr>\n",
              "    <tr>\n",
              "      <th>1</th>\n",
              "      <td>Ivete Sangalo</td>\n",
              "      <td>Could You Be Loved / Citação Musical do Rap: Se Ligue</td>\n",
              "      <td>Don't let them fool, ya\\nOr even try to school, ya! Oh, no!\\nWe've got a mind of our own\\nSo go to hell if what you? re thinking is not right!\\nLove would never leave us alone\\nA-yin the darkness there must come out to light\\n\\nCould you be loved and be loved?\\nCould you be loved and be loved?\\n\\nDon't let them change ya, oh!\\nOr even rearrange ya! Oh, no!\\nWe've got a life to live\\nThey say: only, only\\nOnly the fittest of the fittest shall survive\\nStay alive! Oh!\\n\\nCould you be loved and be loved?\\nCould you be loved, wo now! And be loved?\\n\\nCould you be\\nCould you be\\nCould you be lo...</td>\n",
              "      <td>Pop; Axé; Romântico</td>\n",
              "    </tr>\n",
              "    <tr>\n",
              "      <th>2</th>\n",
              "      <td>Ivete Sangalo</td>\n",
              "      <td>Cruisin' (Part. Saulo)</td>\n",
              "      <td>Baby, let's cruise, away from here\\nDon't be confused, the way is clear\\nAnd if you want it you got it forever\\nThis is not a one night stand, baby\\n\\nLet the music take your mind\\nJust release &amp; you will find\\nYou're gonna fly away\\nGlad you're goin' my way\\nI love it when we're cruisin' together\\nMusic is played for love\\nCruisin' is made for love\\nI love it when we're cruisin' together\\n\\nBaby, tonight belongs to us\\nEverything's right, do what you must\\nAnd inch by inch we get closer &amp; closer\\n\\nTo every little part of each other, ooh, baby, yeah, so\\n\\nLet the music take your mind\\nJu...</td>\n",
              "      <td>Pop; Axé; Romântico</td>\n",
              "    </tr>\n",
              "    <tr>\n",
              "      <th>3</th>\n",
              "      <td>Ivete Sangalo</td>\n",
              "      <td>Easy</td>\n",
              "      <td>Know it sounds funny\\nBut, I just can't stand the pain\\nGirl, I'm leaving you tomorrow\\nSeems to me girl\\nYou know I've done all I can\\nYou see I begged, stole and I borrowed! (yeah)\\n\\nOoh, that's why I'm easy\\nI'm easy like Sunday morning\\nThat's why I'm easy\\nI'm easy like Sunday morning\\n\\nWhy in the world would anybody put chains on me?\\nI've paid my dues to make it\\nEverybody wants me to be\\nWhat they want me to be\\nI'm not happy when I try to fake it! no!\\n\\nOoh, that's why I'm easy\\nI'm easy like Sunday morning, yeah\\nThat's why I'm easy\\nI'm easy like Sunday morning\\n\\nI wanna be ...</td>\n",
              "      <td>Pop; Axé; Romântico</td>\n",
              "    </tr>\n",
              "    <tr>\n",
              "      <th>4</th>\n",
              "      <td>Ivete Sangalo</td>\n",
              "      <td>For Your Babies (The Voice cover)</td>\n",
              "      <td>You've got that look again\\nThe one I hoped I had when I was a lad\\nYour face is just beaming\\nYour smile got me boasting\\nMy pulse roller-coastering\\n\\nAnyway the four winds that blow\\nThey're gonna send me sailing home to you\\nOr I'll fly with the force of a rainbow\\nThe dream of gold will be waiting in your eyes\\n\\nYou know I'd do most anything you want\\nHey, I, I try to give you everything you need\\nI can see that it gets to you\\n\\nI don't believe in many things\\nBut in you, I do\\n\\nHer faith is amazing\\nThe pain that she goes through\\nContained in the hope for you\\nYour whole world ha...</td>\n",
              "      <td>Pop; Axé; Romântico</td>\n",
              "    </tr>\n",
              "  </tbody>\n",
              "</table>\n",
              "</div>\n",
              "      <button class=\"colab-df-convert\" onclick=\"convertToInteractive('df-73c34dd7-6ad9-4478-b83e-408045ff8932')\"\n",
              "              title=\"Convert this dataframe to an interactive table.\"\n",
              "              style=\"display:none;\">\n",
              "        \n",
              "  <svg xmlns=\"http://www.w3.org/2000/svg\" height=\"24px\"viewBox=\"0 0 24 24\"\n",
              "       width=\"24px\">\n",
              "    <path d=\"M0 0h24v24H0V0z\" fill=\"none\"/>\n",
              "    <path d=\"M18.56 5.44l.94 2.06.94-2.06 2.06-.94-2.06-.94-.94-2.06-.94 2.06-2.06.94zm-11 1L8.5 8.5l.94-2.06 2.06-.94-2.06-.94L8.5 2.5l-.94 2.06-2.06.94zm10 10l.94 2.06.94-2.06 2.06-.94-2.06-.94-.94-2.06-.94 2.06-2.06.94z\"/><path d=\"M17.41 7.96l-1.37-1.37c-.4-.4-.92-.59-1.43-.59-.52 0-1.04.2-1.43.59L10.3 9.45l-7.72 7.72c-.78.78-.78 2.05 0 2.83L4 21.41c.39.39.9.59 1.41.59.51 0 1.02-.2 1.41-.59l7.78-7.78 2.81-2.81c.8-.78.8-2.07 0-2.86zM5.41 20L4 18.59l7.72-7.72 1.47 1.35L5.41 20z\"/>\n",
              "  </svg>\n",
              "      </button>\n",
              "      \n",
              "  <style>\n",
              "    .colab-df-container {\n",
              "      display:flex;\n",
              "      flex-wrap:wrap;\n",
              "      gap: 12px;\n",
              "    }\n",
              "\n",
              "    .colab-df-convert {\n",
              "      background-color: #E8F0FE;\n",
              "      border: none;\n",
              "      border-radius: 50%;\n",
              "      cursor: pointer;\n",
              "      display: none;\n",
              "      fill: #1967D2;\n",
              "      height: 32px;\n",
              "      padding: 0 0 0 0;\n",
              "      width: 32px;\n",
              "    }\n",
              "\n",
              "    .colab-df-convert:hover {\n",
              "      background-color: #E2EBFA;\n",
              "      box-shadow: 0px 1px 2px rgba(60, 64, 67, 0.3), 0px 1px 3px 1px rgba(60, 64, 67, 0.15);\n",
              "      fill: #174EA6;\n",
              "    }\n",
              "\n",
              "    [theme=dark] .colab-df-convert {\n",
              "      background-color: #3B4455;\n",
              "      fill: #D2E3FC;\n",
              "    }\n",
              "\n",
              "    [theme=dark] .colab-df-convert:hover {\n",
              "      background-color: #434B5C;\n",
              "      box-shadow: 0px 1px 3px 1px rgba(0, 0, 0, 0.15);\n",
              "      filter: drop-shadow(0px 1px 2px rgba(0, 0, 0, 0.3));\n",
              "      fill: #FFFFFF;\n",
              "    }\n",
              "  </style>\n",
              "\n",
              "      <script>\n",
              "        const buttonEl =\n",
              "          document.querySelector('#df-73c34dd7-6ad9-4478-b83e-408045ff8932 button.colab-df-convert');\n",
              "        buttonEl.style.display =\n",
              "          google.colab.kernel.accessAllowed ? 'block' : 'none';\n",
              "\n",
              "        async function convertToInteractive(key) {\n",
              "          const element = document.querySelector('#df-73c34dd7-6ad9-4478-b83e-408045ff8932');\n",
              "          const dataTable =\n",
              "            await google.colab.kernel.invokeFunction('convertToInteractive',\n",
              "                                                     [key], {});\n",
              "          if (!dataTable) return;\n",
              "\n",
              "          const docLinkHtml = 'Like what you see? Visit the ' +\n",
              "            '<a target=\"_blank\" href=https://colab.research.google.com/notebooks/data_table.ipynb>data table notebook</a>'\n",
              "            + ' to learn more about interactive tables.';\n",
              "          element.innerHTML = '';\n",
              "          dataTable['output_type'] = 'display_data';\n",
              "          await google.colab.output.renderOutput(dataTable, element);\n",
              "          const docLink = document.createElement('div');\n",
              "          docLink.innerHTML = docLinkHtml;\n",
              "          element.appendChild(docLink);\n",
              "        }\n",
              "      </script>\n",
              "    </div>\n",
              "  </div>\n",
              "  "
            ]
          },
          "metadata": {},
          "execution_count": 10
        }
      ]
    },
    {
      "cell_type": "code",
      "source": [
        "# index only a specific artist by the 'Artist' name\n",
        "nsongs = 300\n",
        "pd.Series(combined_df.loc[combined_df['Songs'] > nsongs, 'Artist'].unique()).sort_values()"
      ],
      "metadata": {
        "id": "bvnMf02pABCZ"
      },
      "execution_count": null,
      "outputs": []
    },
    {
      "cell_type": "code",
      "metadata": {
        "id": "owG1bzLfEX7m",
        "outputId": "74d02150-8ed8-4ad7-8ca7-b7a0c12fc5bb",
        "colab": {
          "base_uri": "https://localhost:8080/",
          "height": 511
        }
      },
      "source": [
        "artist_name = \"Drake\"\n",
        "\n",
        "artist_df = eng_artists.loc[eng_artists['Artist'] == artist_name].reset_index(drop=True)\n",
        "artist_df.head()"
      ],
      "execution_count": 11,
      "outputs": [
        {
          "output_type": "execute_result",
          "data": {
            "text/plain": [
              "  Artist                               SName  \\\n",
              "0  Drake  Laugh Now Cry Later (Ft. Lil Durk)   \n",
              "1  Drake     Fair Trade (feat. Travis Scott)   \n",
              "2  Drake                       Hotline Bling   \n",
              "3  Drake                           One Dance   \n",
              "4  Drake                    Champagne Poetry   \n",
              "\n",
              "                                                                                                                                                                                                                                                                                                                                                                                                                                                                                                                                                                                                                     Lyric  \\\n",
              "0  Sometimes we laugh and sometimes we cry\\nBut I guess you know now\\nBaby\\nI took a half and she took the whole thing slow down\\nBaby\\nWe took a trip now we on your block\\nAnd it's like a ghost town\\nBaby\\nWhere do these niggas be at\\nwhen they say they doing all this and all that\\nTired of beefing of bums\\nYou can't even pay me enough me to react\\n\\nBeen waking up in the crib\\nAnd sometimes I don't even know where I'm at\\nPlease don't play that niggas songs in this party\\nI can't even listen to that\\nAnytime that I run into somebody it must be a victory lap eh\\nShawty come sit on my lap eh\\...   \n",
              "1  I don't understand why you blame me\\nJust take me as I am, it's the same me\\nYeah\\nSenseless sight to see\\nYeah\\nSenseless sight to see\\nAyy\\n\\nFeelin' young but they treat me like the OG\\nAnd they want the tea on me, I swear these bitches nosy\\nSaid he put some money on my head, I guess we gon' see\\nI won't put no money on his head, my niggas owe me\\nI gotta be single for a while, you can't control me\\nUno, dos, tres, in a race, they can't hold me\\nAnd I show my face in a case so you know it's me\\nImitation isn't flattery, it's just annoyin' me\\nAnd I'm too about it\\nAnd the dirt that the...   \n",
              "2  You used to call me on my, you used to, you used to\\nYou used to call me on my cell phone\\nLate night when you need my love\\nCall me on my cell phone\\nLate night when you need my love\\nI know when that hotline bling\\nThat can only mean one thing\\nI know when that hotline bling\\nThat can only mean one thing\\n\\nEver since I left the city, you\\nGot a reputation for yourself now\\nEverybody knows and I feel left out\\nGirl you got me down, you got me stressed out\\nCause ever since I left the city, you\\nStarted wearing less and goin' out more\\nGlasses of champagne out on the dance floor\\nHangin' ...   \n",
              "3  [Intro: Kyla Wizkid]\\nBaby I like your style\\n\\n[Verse 1: Drake]\\nGrips on your waist\\nFront way, back way\\nYou know that I don't play\\nStreets not safe\\nBut I never run away\\nEven when I'm away\\nOti, oti, there's never much love when we go Ot\\nI pray to make it back in one piece\\nI pray, I pray\\n\\n[Hook: Drake]\\nThat's why I need a one dance\\nGot a Hennessy in my hand\\nOne more time 'fore I go\\nHigher powers taking a hold on me\\nI need a one dance\\nGot a Hennessy in my hand\\nOne more time 'fore I go\\nHigher powers is taking a hold on me\\n\\n[Bridge: Kyla Wizkid]\\nBaby I like your style\\n\\n...   \n",
              "4  I love you, I love you, I love you\\nUntil I, until I\\nI love you, I love you, I love you\\nUntil I find the only words I know that you\\n\\nI been hot since the birth of my son\\nI remain unphased, trust, worse has been done\\nMan, fuck evaluation, show me personal funds\\nIt's the pretty boys versus the petty boys\\nSold that already, got a whole new set of toys\\nShit is so surreal, Drizzy Drake, you better enjoy\\nNothing else bigger than the OVO letterman boys\\nCashmere knits for the nighttime boat rides\\nOli got the first еdition parked up roadside\\nThe only sign of strugglin' is coming from t...   \n",
              "\n",
              "         Genres  \n",
              "0  Rap; Hip Hop  \n",
              "1  Rap; Hip Hop  \n",
              "2  Rap; Hip Hop  \n",
              "3  Rap; Hip Hop  \n",
              "4  Rap; Hip Hop  "
            ],
            "text/html": [
              "\n",
              "  <div id=\"df-d9b79cfd-c51b-459c-afed-ce68af198ae4\">\n",
              "    <div class=\"colab-df-container\">\n",
              "      <div>\n",
              "<style scoped>\n",
              "    .dataframe tbody tr th:only-of-type {\n",
              "        vertical-align: middle;\n",
              "    }\n",
              "\n",
              "    .dataframe tbody tr th {\n",
              "        vertical-align: top;\n",
              "    }\n",
              "\n",
              "    .dataframe thead th {\n",
              "        text-align: right;\n",
              "    }\n",
              "</style>\n",
              "<table border=\"1\" class=\"dataframe\">\n",
              "  <thead>\n",
              "    <tr style=\"text-align: right;\">\n",
              "      <th></th>\n",
              "      <th>Artist</th>\n",
              "      <th>SName</th>\n",
              "      <th>Lyric</th>\n",
              "      <th>Genres</th>\n",
              "    </tr>\n",
              "  </thead>\n",
              "  <tbody>\n",
              "    <tr>\n",
              "      <th>0</th>\n",
              "      <td>Drake</td>\n",
              "      <td>Laugh Now Cry Later (Ft. Lil Durk)</td>\n",
              "      <td>Sometimes we laugh and sometimes we cry\\nBut I guess you know now\\nBaby\\nI took a half and she took the whole thing slow down\\nBaby\\nWe took a trip now we on your block\\nAnd it's like a ghost town\\nBaby\\nWhere do these niggas be at\\nwhen they say they doing all this and all that\\nTired of beefing of bums\\nYou can't even pay me enough me to react\\n\\nBeen waking up in the crib\\nAnd sometimes I don't even know where I'm at\\nPlease don't play that niggas songs in this party\\nI can't even listen to that\\nAnytime that I run into somebody it must be a victory lap eh\\nShawty come sit on my lap eh\\...</td>\n",
              "      <td>Rap; Hip Hop</td>\n",
              "    </tr>\n",
              "    <tr>\n",
              "      <th>1</th>\n",
              "      <td>Drake</td>\n",
              "      <td>Fair Trade (feat. Travis Scott)</td>\n",
              "      <td>I don't understand why you blame me\\nJust take me as I am, it's the same me\\nYeah\\nSenseless sight to see\\nYeah\\nSenseless sight to see\\nAyy\\n\\nFeelin' young but they treat me like the OG\\nAnd they want the tea on me, I swear these bitches nosy\\nSaid he put some money on my head, I guess we gon' see\\nI won't put no money on his head, my niggas owe me\\nI gotta be single for a while, you can't control me\\nUno, dos, tres, in a race, they can't hold me\\nAnd I show my face in a case so you know it's me\\nImitation isn't flattery, it's just annoyin' me\\nAnd I'm too about it\\nAnd the dirt that the...</td>\n",
              "      <td>Rap; Hip Hop</td>\n",
              "    </tr>\n",
              "    <tr>\n",
              "      <th>2</th>\n",
              "      <td>Drake</td>\n",
              "      <td>Hotline Bling</td>\n",
              "      <td>You used to call me on my, you used to, you used to\\nYou used to call me on my cell phone\\nLate night when you need my love\\nCall me on my cell phone\\nLate night when you need my love\\nI know when that hotline bling\\nThat can only mean one thing\\nI know when that hotline bling\\nThat can only mean one thing\\n\\nEver since I left the city, you\\nGot a reputation for yourself now\\nEverybody knows and I feel left out\\nGirl you got me down, you got me stressed out\\nCause ever since I left the city, you\\nStarted wearing less and goin' out more\\nGlasses of champagne out on the dance floor\\nHangin' ...</td>\n",
              "      <td>Rap; Hip Hop</td>\n",
              "    </tr>\n",
              "    <tr>\n",
              "      <th>3</th>\n",
              "      <td>Drake</td>\n",
              "      <td>One Dance</td>\n",
              "      <td>[Intro: Kyla Wizkid]\\nBaby I like your style\\n\\n[Verse 1: Drake]\\nGrips on your waist\\nFront way, back way\\nYou know that I don't play\\nStreets not safe\\nBut I never run away\\nEven when I'm away\\nOti, oti, there's never much love when we go Ot\\nI pray to make it back in one piece\\nI pray, I pray\\n\\n[Hook: Drake]\\nThat's why I need a one dance\\nGot a Hennessy in my hand\\nOne more time 'fore I go\\nHigher powers taking a hold on me\\nI need a one dance\\nGot a Hennessy in my hand\\nOne more time 'fore I go\\nHigher powers is taking a hold on me\\n\\n[Bridge: Kyla Wizkid]\\nBaby I like your style\\n\\n...</td>\n",
              "      <td>Rap; Hip Hop</td>\n",
              "    </tr>\n",
              "    <tr>\n",
              "      <th>4</th>\n",
              "      <td>Drake</td>\n",
              "      <td>Champagne Poetry</td>\n",
              "      <td>I love you, I love you, I love you\\nUntil I, until I\\nI love you, I love you, I love you\\nUntil I find the only words I know that you\\n\\nI been hot since the birth of my son\\nI remain unphased, trust, worse has been done\\nMan, fuck evaluation, show me personal funds\\nIt's the pretty boys versus the petty boys\\nSold that already, got a whole new set of toys\\nShit is so surreal, Drizzy Drake, you better enjoy\\nNothing else bigger than the OVO letterman boys\\nCashmere knits for the nighttime boat rides\\nOli got the first еdition parked up roadside\\nThe only sign of strugglin' is coming from t...</td>\n",
              "      <td>Rap; Hip Hop</td>\n",
              "    </tr>\n",
              "  </tbody>\n",
              "</table>\n",
              "</div>\n",
              "      <button class=\"colab-df-convert\" onclick=\"convertToInteractive('df-d9b79cfd-c51b-459c-afed-ce68af198ae4')\"\n",
              "              title=\"Convert this dataframe to an interactive table.\"\n",
              "              style=\"display:none;\">\n",
              "        \n",
              "  <svg xmlns=\"http://www.w3.org/2000/svg\" height=\"24px\"viewBox=\"0 0 24 24\"\n",
              "       width=\"24px\">\n",
              "    <path d=\"M0 0h24v24H0V0z\" fill=\"none\"/>\n",
              "    <path d=\"M18.56 5.44l.94 2.06.94-2.06 2.06-.94-2.06-.94-.94-2.06-.94 2.06-2.06.94zm-11 1L8.5 8.5l.94-2.06 2.06-.94-2.06-.94L8.5 2.5l-.94 2.06-2.06.94zm10 10l.94 2.06.94-2.06 2.06-.94-2.06-.94-.94-2.06-.94 2.06-2.06.94z\"/><path d=\"M17.41 7.96l-1.37-1.37c-.4-.4-.92-.59-1.43-.59-.52 0-1.04.2-1.43.59L10.3 9.45l-7.72 7.72c-.78.78-.78 2.05 0 2.83L4 21.41c.39.39.9.59 1.41.59.51 0 1.02-.2 1.41-.59l7.78-7.78 2.81-2.81c.8-.78.8-2.07 0-2.86zM5.41 20L4 18.59l7.72-7.72 1.47 1.35L5.41 20z\"/>\n",
              "  </svg>\n",
              "      </button>\n",
              "      \n",
              "  <style>\n",
              "    .colab-df-container {\n",
              "      display:flex;\n",
              "      flex-wrap:wrap;\n",
              "      gap: 12px;\n",
              "    }\n",
              "\n",
              "    .colab-df-convert {\n",
              "      background-color: #E8F0FE;\n",
              "      border: none;\n",
              "      border-radius: 50%;\n",
              "      cursor: pointer;\n",
              "      display: none;\n",
              "      fill: #1967D2;\n",
              "      height: 32px;\n",
              "      padding: 0 0 0 0;\n",
              "      width: 32px;\n",
              "    }\n",
              "\n",
              "    .colab-df-convert:hover {\n",
              "      background-color: #E2EBFA;\n",
              "      box-shadow: 0px 1px 2px rgba(60, 64, 67, 0.3), 0px 1px 3px 1px rgba(60, 64, 67, 0.15);\n",
              "      fill: #174EA6;\n",
              "    }\n",
              "\n",
              "    [theme=dark] .colab-df-convert {\n",
              "      background-color: #3B4455;\n",
              "      fill: #D2E3FC;\n",
              "    }\n",
              "\n",
              "    [theme=dark] .colab-df-convert:hover {\n",
              "      background-color: #434B5C;\n",
              "      box-shadow: 0px 1px 3px 1px rgba(0, 0, 0, 0.15);\n",
              "      filter: drop-shadow(0px 1px 2px rgba(0, 0, 0, 0.3));\n",
              "      fill: #FFFFFF;\n",
              "    }\n",
              "  </style>\n",
              "\n",
              "      <script>\n",
              "        const buttonEl =\n",
              "          document.querySelector('#df-d9b79cfd-c51b-459c-afed-ce68af198ae4 button.colab-df-convert');\n",
              "        buttonEl.style.display =\n",
              "          google.colab.kernel.accessAllowed ? 'block' : 'none';\n",
              "\n",
              "        async function convertToInteractive(key) {\n",
              "          const element = document.querySelector('#df-d9b79cfd-c51b-459c-afed-ce68af198ae4');\n",
              "          const dataTable =\n",
              "            await google.colab.kernel.invokeFunction('convertToInteractive',\n",
              "                                                     [key], {});\n",
              "          if (!dataTable) return;\n",
              "\n",
              "          const docLinkHtml = 'Like what you see? Visit the ' +\n",
              "            '<a target=\"_blank\" href=https://colab.research.google.com/notebooks/data_table.ipynb>data table notebook</a>'\n",
              "            + ' to learn more about interactive tables.';\n",
              "          element.innerHTML = '';\n",
              "          dataTable['output_type'] = 'display_data';\n",
              "          await google.colab.output.renderOutput(dataTable, element);\n",
              "          const docLink = document.createElement('div');\n",
              "          docLink.innerHTML = docLinkHtml;\n",
              "          element.appendChild(docLink);\n",
              "        }\n",
              "      </script>\n",
              "    </div>\n",
              "  </div>\n",
              "  "
            ]
          },
          "metadata": {},
          "execution_count": 11
        }
      ]
    },
    {
      "cell_type": "markdown",
      "metadata": {
        "id": "uF3rfL9ILLOA"
      },
      "source": [
        "### 4.Create dataloader using fastai."
      ]
    },
    {
      "cell_type": "markdown",
      "source": [
        "### Short lesson: Data and Model. \n",
        "\n",
        "##### The model: We will be creating a 'language model', which you can think of as a student that will learn how to write lyrics in the style of some artist.  **Model=Student.** \n",
        "\n",
        "##### The learning task: Using 'self-supervised learning' for teaching the student to learn songs without us having to specifically 'label' the song lyrics. Instead, it will learn to take a word in a song and guess the next one (eg. It will get the word \"Happy\" and try to guess \"Birthday\"). **The data will be able to 'label' itself since we will be giving it one word in a song, and make the student guess the next one.**\n",
        "\n",
        "##### Turn lyrics into something the computer can understand:\n",
        "1. Tokenize: Convert the song lyrics (string) into a list of words. As a simple example, \"happy birthday to you, happy birthday to you\" -> [\"happy\", \"birthday\", \"to\", \"you\", \",\", \"happy\", \"birthday\", \"to\", \"you\"]. \n",
        "2. Numericalize: Convert each word into a unique token (because the computer likes numbers). To continue the example, [\"happy\", \"birthday\", \"to\", \"you\", \",\", \"happy\", \"birthday\", \"to\", \"you\"] -> [0, 1, 2, 3, 4, 0, 1, 2, 3] where 0 = \"happy\", 1 = \"birthday\", 2 = \"to\", 3 = \"you\", 4 = \",\". \n",
        "3. Dataloaders: Finally, we will make the data for a 'guess next word student'. The way this works is that we give the student \"Happy\" with \"birthday\" as the correct answer (label), then \"birthday\" with \"to\" as the label, then \"to\" with \"you\" as the label and so on. **Student is given the first words in a song and is told to guess the second one. Then the student is given the second and guesses the third. This pattern continues multiple times.**\n",
        "\n",
        "You can think of the dataloaders as the books we are giving the student to learn from. The books contain questions and answers (similar to a math textbook) so that the student can learn when it is right and wrong. Remember: in this case the 'questions' in the textbook are one word in a song and the 'answer' is the next word in the song. "
      ],
      "metadata": {
        "id": "yOwoVRCOAMGc"
      }
    },
    {
      "cell_type": "code",
      "metadata": {
        "id": "cILz9WCzK27K",
        "outputId": "2e4a0a24-3ad6-44c9-fce9-b3772882a65a",
        "colab": {
          "base_uri": "https://localhost:8080/"
        }
      },
      "source": [
        "lang_model_block = DataBlock(\n",
        "    blocks=TextBlock.from_df('artist_df', seq_len=72, is_lm=True),\n",
        "    get_items=ColReader('Lyric')\n",
        ")\n",
        "lang_model_block"
      ],
      "execution_count": 12,
      "outputs": [
        {
          "output_type": "execute_result",
          "data": {
            "text/plain": [
              "<fastai.data.block.DataBlock at 0x7f371889ba90>"
            ]
          },
          "metadata": {},
          "execution_count": 12
        }
      ]
    },
    {
      "cell_type": "markdown",
      "source": [
        "### Short lesson: Optimizations.\n",
        "\n",
        "The dataloader uses a few tricks to speed up training the student. \n",
        "1. Sequence length: The student has limited memory so we need to break up the songs for them to learn. The sequence length represents how many words in a song we want the student to learn at a time. \n",
        "2. Batch size: This student is actually an alien from another planet that has the ability to learn multiple songs at the same time! The batch size represents how many songs we want the student to learn, all at the same time!"
      ],
      "metadata": {
        "id": "nFjOurDPK-Xx"
      }
    },
    {
      "cell_type": "code",
      "metadata": {
        "id": "WCIO_OFzL4B7",
        "outputId": "52375845-1db2-485c-dd26-eb6f6e442232",
        "colab": {
          "base_uri": "https://localhost:8080/",
          "height": 182
        }
      },
      "source": [
        "dls_lm = lang_model_block.dataloaders(artist_df, bs=128)\n",
        "dls_lm.show_batch(max_n=2)"
      ],
      "execution_count": 13,
      "outputs": [
        {
          "output_type": "display_data",
          "data": {
            "text/plain": [
              "<IPython.core.display.HTML object>"
            ],
            "text/html": [
              "<table border=\"1\" class=\"dataframe\">\n",
              "  <thead>\n",
              "    <tr style=\"text-align: right;\">\n",
              "      <th></th>\n",
              "      <th>text</th>\n",
              "      <th>text_</th>\n",
              "    </tr>\n",
              "  </thead>\n",
              "  <tbody>\n",
              "    <tr>\n",
              "      <th>0</th>\n",
              "      <td>xxbos [ verse 1 : xxmaj drake ] \\n xxmaj check , look \\n xxmaj and i ai n't tryna get to know nobody but you \\n xxmaj do me a favor , tell me what 's happenin ' \\n i am drinkin ' xxup xo , d is sippin ' some xxmaj xxunk \\n xxmaj usually the things i desire i always xxunk \\n xxmaj back again , xxunk of the</td>\n",
              "      <td>[ verse 1 : xxmaj drake ] \\n xxmaj check , look \\n xxmaj and i ai n't tryna get to know nobody but you \\n xxmaj do me a favor , tell me what 's happenin ' \\n i am drinkin ' xxup xo , d is sippin ' some xxmaj xxunk \\n xxmaj usually the things i desire i always xxunk \\n xxmaj back again , xxunk of the mack</td>\n",
              "    </tr>\n",
              "    <tr>\n",
              "      <th>1</th>\n",
              "      <td>\\n xxmaj when i give ya what i give ya \\n\\n [ chorus :] \\n xxmaj when i give ya what i give ya \\n ( you gon like that ) \\n xxmaj when i give ya what i give ya \\n ( you throw it right back ) \\n xxmaj there ai n't a women in the world that can doubt that ( oh ) \\n i need a women not</td>\n",
              "      <td>xxmaj when i give ya what i give ya \\n\\n [ chorus :] \\n xxmaj when i give ya what i give ya \\n ( you gon like that ) \\n xxmaj when i give ya what i give ya \\n ( you throw it right back ) \\n xxmaj there ai n't a women in the world that can doubt that ( oh ) \\n i need a women not a</td>\n",
              "    </tr>\n",
              "  </tbody>\n",
              "</table>"
            ]
          },
          "metadata": {}
        }
      ]
    },
    {
      "cell_type": "markdown",
      "metadata": {
        "id": "yB0qZ-OfO-RH"
      },
      "source": [
        "# Train a model using transfer learning"
      ]
    },
    {
      "cell_type": "markdown",
      "source": [
        "### This is where the magic happens!\n",
        "Now, we put it all together. We give the student some songs for a particular artist and tell the student to start learning. Hopefully, the student will start to pick up on certain things from that artist's style as it learns. "
      ],
      "metadata": {
        "id": "bDmpLnbPNQn0"
      }
    },
    {
      "cell_type": "code",
      "metadata": {
        "id": "aVdFZNAuPCB6",
        "outputId": "f48387e0-0c39-4c5e-8b78-b3c9483d79d1",
        "colab": {
          "base_uri": "https://localhost:8080/",
          "height": 886
        }
      },
      "source": [
        "learn = language_model_learner(dls_lm, AWD_LSTM, drop_mult=0.3, metrics=accuracy)\n",
        "learn.fit_one_cycle(5, 0.004)\n",
        "learn.unfreeze()\n",
        "# train for 20 more epochs on the new lr\n",
        "learn.fit_one_cycle(20, lr_max=slice(3e-6, 3e-4))"
      ],
      "execution_count": null,
      "outputs": [
        {
          "output_type": "display_data",
          "data": {
            "text/plain": [
              "<IPython.core.display.HTML object>"
            ],
            "text/html": [
              "\n",
              "<style>\n",
              "    /* Turns off some styling */\n",
              "    progress {\n",
              "        /* gets rid of default border in Firefox and Opera. */\n",
              "        border: none;\n",
              "        /* Needs to be in here for Safari polyfill so background images work as expected. */\n",
              "        background-size: auto;\n",
              "    }\n",
              "    .progress-bar-interrupted, .progress-bar-interrupted::-webkit-progress-bar {\n",
              "        background: #F44336;\n",
              "    }\n",
              "</style>\n"
            ]
          },
          "metadata": {}
        },
        {
          "output_type": "display_data",
          "data": {
            "text/plain": [
              "<IPython.core.display.HTML object>"
            ],
            "text/html": [
              "\n",
              "    <div>\n",
              "      <progress value='105070592' class='' max='105067061' style='width:300px; height:20px; vertical-align: middle;'></progress>\n",
              "      100.00% [105070592/105067061 00:20<00:00]\n",
              "    </div>\n",
              "    "
            ]
          },
          "metadata": {}
        },
        {
          "output_type": "display_data",
          "data": {
            "text/plain": [
              "<IPython.core.display.HTML object>"
            ],
            "text/html": [
              "\n",
              "<style>\n",
              "    /* Turns off some styling */\n",
              "    progress {\n",
              "        /* gets rid of default border in Firefox and Opera. */\n",
              "        border: none;\n",
              "        /* Needs to be in here for Safari polyfill so background images work as expected. */\n",
              "        background-size: auto;\n",
              "    }\n",
              "    .progress-bar-interrupted, .progress-bar-interrupted::-webkit-progress-bar {\n",
              "        background: #F44336;\n",
              "    }\n",
              "</style>\n"
            ]
          },
          "metadata": {}
        },
        {
          "output_type": "display_data",
          "data": {
            "text/plain": [
              "<IPython.core.display.HTML object>"
            ],
            "text/html": [
              "<table border=\"1\" class=\"dataframe\">\n",
              "  <thead>\n",
              "    <tr style=\"text-align: left;\">\n",
              "      <th>epoch</th>\n",
              "      <th>train_loss</th>\n",
              "      <th>valid_loss</th>\n",
              "      <th>accuracy</th>\n",
              "      <th>time</th>\n",
              "    </tr>\n",
              "  </thead>\n",
              "  <tbody>\n",
              "    <tr>\n",
              "      <td>0</td>\n",
              "      <td>6.001497</td>\n",
              "      <td>5.594293</td>\n",
              "      <td>0.172681</td>\n",
              "      <td>00:33</td>\n",
              "    </tr>\n",
              "    <tr>\n",
              "      <td>1</td>\n",
              "      <td>5.536195</td>\n",
              "      <td>4.882863</td>\n",
              "      <td>0.217637</td>\n",
              "      <td>00:27</td>\n",
              "    </tr>\n",
              "    <tr>\n",
              "      <td>2</td>\n",
              "      <td>5.093522</td>\n",
              "      <td>4.452796</td>\n",
              "      <td>0.226052</td>\n",
              "      <td>00:27</td>\n",
              "    </tr>\n",
              "    <tr>\n",
              "      <td>3</td>\n",
              "      <td>4.740409</td>\n",
              "      <td>4.261594</td>\n",
              "      <td>0.229961</td>\n",
              "      <td>00:31</td>\n",
              "    </tr>\n",
              "    <tr>\n",
              "      <td>4</td>\n",
              "      <td>4.497484</td>\n",
              "      <td>4.229335</td>\n",
              "      <td>0.232613</td>\n",
              "      <td>00:26</td>\n",
              "    </tr>\n",
              "  </tbody>\n",
              "</table>"
            ]
          },
          "metadata": {}
        },
        {
          "output_type": "display_data",
          "data": {
            "text/plain": [
              "<IPython.core.display.HTML object>"
            ],
            "text/html": [
              "\n",
              "<style>\n",
              "    /* Turns off some styling */\n",
              "    progress {\n",
              "        /* gets rid of default border in Firefox and Opera. */\n",
              "        border: none;\n",
              "        /* Needs to be in here for Safari polyfill so background images work as expected. */\n",
              "        background-size: auto;\n",
              "    }\n",
              "    .progress-bar-interrupted, .progress-bar-interrupted::-webkit-progress-bar {\n",
              "        background: #F44336;\n",
              "    }\n",
              "</style>\n"
            ]
          },
          "metadata": {}
        },
        {
          "output_type": "display_data",
          "data": {
            "text/plain": [
              "<IPython.core.display.HTML object>"
            ],
            "text/html": [
              "<table border=\"1\" class=\"dataframe\">\n",
              "  <thead>\n",
              "    <tr style=\"text-align: left;\">\n",
              "      <th>epoch</th>\n",
              "      <th>train_loss</th>\n",
              "      <th>valid_loss</th>\n",
              "      <th>accuracy</th>\n",
              "      <th>time</th>\n",
              "    </tr>\n",
              "  </thead>\n",
              "  <tbody>\n",
              "    <tr>\n",
              "      <td>0</td>\n",
              "      <td>4.020443</td>\n",
              "      <td>4.213316</td>\n",
              "      <td>0.233734</td>\n",
              "      <td>00:30</td>\n",
              "    </tr>\n",
              "    <tr>\n",
              "      <td>1</td>\n",
              "      <td>4.000458</td>\n",
              "      <td>4.166079</td>\n",
              "      <td>0.237146</td>\n",
              "      <td>00:33</td>\n",
              "    </tr>\n",
              "    <tr>\n",
              "      <td>2</td>\n",
              "      <td>3.963469</td>\n",
              "      <td>4.081060</td>\n",
              "      <td>0.242489</td>\n",
              "      <td>00:29</td>\n",
              "    </tr>\n",
              "    <tr>\n",
              "      <td>3</td>\n",
              "      <td>3.911074</td>\n",
              "      <td>4.000809</td>\n",
              "      <td>0.248975</td>\n",
              "      <td>00:30</td>\n",
              "    </tr>\n",
              "    <tr>\n",
              "      <td>4</td>\n",
              "      <td>3.859694</td>\n",
              "      <td>3.945955</td>\n",
              "      <td>0.254764</td>\n",
              "      <td>00:31</td>\n",
              "    </tr>\n",
              "    <tr>\n",
              "      <td>5</td>\n",
              "      <td>3.810256</td>\n",
              "      <td>3.906708</td>\n",
              "      <td>0.261510</td>\n",
              "      <td>00:29</td>\n",
              "    </tr>\n",
              "    <tr>\n",
              "      <td>6</td>\n",
              "      <td>3.763493</td>\n",
              "      <td>3.879490</td>\n",
              "      <td>0.266487</td>\n",
              "      <td>00:29</td>\n",
              "    </tr>\n",
              "    <tr>\n",
              "      <td>7</td>\n",
              "      <td>3.724699</td>\n",
              "      <td>3.857315</td>\n",
              "      <td>0.271357</td>\n",
              "      <td>00:30</td>\n",
              "    </tr>\n",
              "    <tr>\n",
              "      <td>8</td>\n",
              "      <td>3.689880</td>\n",
              "      <td>3.832790</td>\n",
              "      <td>0.274891</td>\n",
              "      <td>00:30</td>\n",
              "    </tr>\n",
              "    <tr>\n",
              "      <td>9</td>\n",
              "      <td>3.652989</td>\n",
              "      <td>3.815803</td>\n",
              "      <td>0.278967</td>\n",
              "      <td>00:30</td>\n",
              "    </tr>\n",
              "    <tr>\n",
              "      <td>10</td>\n",
              "      <td>3.621722</td>\n",
              "      <td>3.801362</td>\n",
              "      <td>0.282119</td>\n",
              "      <td>00:29</td>\n",
              "    </tr>\n",
              "    <tr>\n",
              "      <td>11</td>\n",
              "      <td>3.595619</td>\n",
              "      <td>3.792164</td>\n",
              "      <td>0.284144</td>\n",
              "      <td>00:29</td>\n",
              "    </tr>\n",
              "    <tr>\n",
              "      <td>12</td>\n",
              "      <td>3.570997</td>\n",
              "      <td>3.784898</td>\n",
              "      <td>0.284514</td>\n",
              "      <td>00:32</td>\n",
              "    </tr>\n",
              "    <tr>\n",
              "      <td>13</td>\n",
              "      <td>3.550073</td>\n",
              "      <td>3.777351</td>\n",
              "      <td>0.286798</td>\n",
              "      <td>00:30</td>\n",
              "    </tr>\n",
              "    <tr>\n",
              "      <td>14</td>\n",
              "      <td>3.536405</td>\n",
              "      <td>3.772366</td>\n",
              "      <td>0.288012</td>\n",
              "      <td>00:30</td>\n",
              "    </tr>\n",
              "    <tr>\n",
              "      <td>15</td>\n",
              "      <td>3.524033</td>\n",
              "      <td>3.769657</td>\n",
              "      <td>0.288481</td>\n",
              "      <td>00:31</td>\n",
              "    </tr>\n",
              "    <tr>\n",
              "      <td>16</td>\n",
              "      <td>3.515939</td>\n",
              "      <td>3.766864</td>\n",
              "      <td>0.289317</td>\n",
              "      <td>00:29</td>\n",
              "    </tr>\n",
              "    <tr>\n",
              "      <td>17</td>\n",
              "      <td>3.504744</td>\n",
              "      <td>3.765623</td>\n",
              "      <td>0.289467</td>\n",
              "      <td>00:29</td>\n",
              "    </tr>\n",
              "    <tr>\n",
              "      <td>18</td>\n",
              "      <td>3.495624</td>\n",
              "      <td>3.765460</td>\n",
              "      <td>0.289544</td>\n",
              "      <td>00:31</td>\n",
              "    </tr>\n",
              "    <tr>\n",
              "      <td>19</td>\n",
              "      <td>3.488504</td>\n",
              "      <td>3.765363</td>\n",
              "      <td>0.289597</td>\n",
              "      <td>00:31</td>\n",
              "    </tr>\n",
              "  </tbody>\n",
              "</table>"
            ]
          },
          "metadata": {}
        }
      ]
    },
    {
      "cell_type": "markdown",
      "source": [
        "### FYI: I lied.\n",
        "\n",
        "In reality, there is no...\n",
        "1. Student\n",
        "2. Songs books\n",
        "3. Magic learning\n",
        "\n",
        "There is actually...\n",
        "1. A pretrained deep learning model (LSTM)\n",
        "2. Song data formatted as pytorch tensors in dataloaders\n",
        "3. A learning cycle taking place, where an optimzer takes gradients and performs back propagation to 'teach' the LSTM\n",
        "\n",
        "There are also various NLP deep learning architectures (which are like sample students), called 'RNNs', 'LSTMs', 'GRUs', 'Transformers', etc. To be honest with you this isn't that important, as long as you understand the basics, you can build your way up to the rest :)"
      ],
      "metadata": {
        "id": "FY5gDL48P4zB"
      }
    },
    {
      "cell_type": "code",
      "source": [
        "x, y = first(dls.train)\n",
        "x.shape, y.shape"
      ],
      "metadata": {
        "id": "gswz3K4OhrA_"
      },
      "execution_count": null,
      "outputs": []
    },
    {
      "cell_type": "markdown",
      "metadata": {
        "id": "3v8sTDVXVlOU"
      },
      "source": [
        "# Predictions with Model"
      ]
    },
    {
      "cell_type": "code",
      "metadata": {
        "id": "NrvVHSD1V_-V"
      },
      "source": [
        "def get_most_complex(start_text, preds):\n",
        "  max_len = 0\n",
        "  max_i = -1\n",
        "  for i, pred in enumerate(preds):\n",
        "    pred_cardinality = len(set(pred.split()))\n",
        "    if pred_cardinality > max_len:\n",
        "      max_len = pred_cardinality\n",
        "      max_i = i\n",
        "  \n",
        "  return_str = preds[max_i]\n",
        "\n",
        "  val = -1\n",
        "  occurrence = len(start_text.split())\n",
        "  for i in range(0, occurrence):\n",
        "    val = return_str.find(' ', val + 1)\n",
        "\n",
        "  return start_text + return_str[val:return_str.rfind('.')+1]\n"
      ],
      "execution_count": null,
      "outputs": []
    },
    {
      "cell_type": "code",
      "metadata": {
        "id": "D0AIPXebX9QO",
        "outputId": "ef0df8fb-4f6e-4d39-cfb0-7ed4793d1851",
        "colab": {
          "base_uri": "https://localhost:8080/",
          "height": 53
        }
      },
      "source": [
        "start_text = \"Heyo this is it\"\n",
        "words = 60\n",
        "sentences = 5\n",
        "preds = [learn.predict(start_text, words, temperature=0.75)\n",
        "         for sentence in range(sentences)]\n",
        "\n",
        "get_most_complex(start_text, preds)"
      ],
      "execution_count": null,
      "outputs": [
        {
          "output_type": "display_data",
          "data": {
            "text/plain": [
              "<IPython.core.display.HTML object>"
            ],
            "text/html": [
              "\n",
              "<style>\n",
              "    /* Turns off some styling */\n",
              "    progress {\n",
              "        /* gets rid of default border in Firefox and Opera. */\n",
              "        border: none;\n",
              "        /* Needs to be in here for Safari polyfill so background images work as expected. */\n",
              "        background-size: auto;\n",
              "    }\n",
              "    .progress-bar-interrupted, .progress-bar-interrupted::-webkit-progress-bar {\n",
              "        background: #F44336;\n",
              "    }\n",
              "</style>\n"
            ]
          },
          "metadata": {}
        },
        {
          "output_type": "display_data",
          "data": {
            "text/plain": [
              "<IPython.core.display.HTML object>"
            ],
            "text/html": [
              ""
            ]
          },
          "metadata": {}
        },
        {
          "output_type": "display_data",
          "data": {
            "text/plain": [
              "<IPython.core.display.HTML object>"
            ],
            "text/html": [
              "\n",
              "<style>\n",
              "    /* Turns off some styling */\n",
              "    progress {\n",
              "        /* gets rid of default border in Firefox and Opera. */\n",
              "        border: none;\n",
              "        /* Needs to be in here for Safari polyfill so background images work as expected. */\n",
              "        background-size: auto;\n",
              "    }\n",
              "    .progress-bar-interrupted, .progress-bar-interrupted::-webkit-progress-bar {\n",
              "        background: #F44336;\n",
              "    }\n",
              "</style>\n"
            ]
          },
          "metadata": {}
        },
        {
          "output_type": "display_data",
          "data": {
            "text/plain": [
              "<IPython.core.display.HTML object>"
            ],
            "text/html": [
              ""
            ]
          },
          "metadata": {}
        },
        {
          "output_type": "display_data",
          "data": {
            "text/plain": [
              "<IPython.core.display.HTML object>"
            ],
            "text/html": [
              "\n",
              "<style>\n",
              "    /* Turns off some styling */\n",
              "    progress {\n",
              "        /* gets rid of default border in Firefox and Opera. */\n",
              "        border: none;\n",
              "        /* Needs to be in here for Safari polyfill so background images work as expected. */\n",
              "        background-size: auto;\n",
              "    }\n",
              "    .progress-bar-interrupted, .progress-bar-interrupted::-webkit-progress-bar {\n",
              "        background: #F44336;\n",
              "    }\n",
              "</style>\n"
            ]
          },
          "metadata": {}
        },
        {
          "output_type": "display_data",
          "data": {
            "text/plain": [
              "<IPython.core.display.HTML object>"
            ],
            "text/html": [
              ""
            ]
          },
          "metadata": {}
        },
        {
          "output_type": "display_data",
          "data": {
            "text/plain": [
              "<IPython.core.display.HTML object>"
            ],
            "text/html": [
              "\n",
              "<style>\n",
              "    /* Turns off some styling */\n",
              "    progress {\n",
              "        /* gets rid of default border in Firefox and Opera. */\n",
              "        border: none;\n",
              "        /* Needs to be in here for Safari polyfill so background images work as expected. */\n",
              "        background-size: auto;\n",
              "    }\n",
              "    .progress-bar-interrupted, .progress-bar-interrupted::-webkit-progress-bar {\n",
              "        background: #F44336;\n",
              "    }\n",
              "</style>\n"
            ]
          },
          "metadata": {}
        },
        {
          "output_type": "display_data",
          "data": {
            "text/plain": [
              "<IPython.core.display.HTML object>"
            ],
            "text/html": [
              ""
            ]
          },
          "metadata": {}
        },
        {
          "output_type": "display_data",
          "data": {
            "text/plain": [
              "<IPython.core.display.HTML object>"
            ],
            "text/html": [
              "\n",
              "<style>\n",
              "    /* Turns off some styling */\n",
              "    progress {\n",
              "        /* gets rid of default border in Firefox and Opera. */\n",
              "        border: none;\n",
              "        /* Needs to be in here for Safari polyfill so background images work as expected. */\n",
              "        background-size: auto;\n",
              "    }\n",
              "    .progress-bar-interrupted, .progress-bar-interrupted::-webkit-progress-bar {\n",
              "        background: #F44336;\n",
              "    }\n",
              "</style>\n"
            ]
          },
          "metadata": {}
        },
        {
          "output_type": "display_data",
          "data": {
            "text/plain": [
              "<IPython.core.display.HTML object>"
            ],
            "text/html": [
              ""
            ]
          },
          "metadata": {}
        },
        {
          "output_type": "execute_result",
          "data": {
            "text/plain": [
              "'Heyo this is it is an honest call to call attention to a new thing , and it can be seen when purpose and actions are given away to the naked eye .'"
            ],
            "application/vnd.google.colaboratory.intrinsic+json": {
              "type": "string"
            }
          },
          "metadata": {},
          "execution_count": 52
        }
      ]
    },
    {
      "cell_type": "code",
      "metadata": {
        "id": "zrcLBrAHbp_c"
      },
      "source": [
        ""
      ],
      "execution_count": null,
      "outputs": []
    }
  ]
}