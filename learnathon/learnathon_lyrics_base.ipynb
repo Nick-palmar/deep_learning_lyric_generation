{
  "nbformat": 4,
  "nbformat_minor": 0,
  "metadata": {
    "colab": {
      "name": "learnathon_lyrics_base.ipynb",
      "provenance": []
    },
    "kernelspec": {
      "name": "python3",
      "display_name": "Python 3"
    },
    "language_info": {
      "name": "python"
    },
    "accelerator": "GPU",
    "gpuClass": "standard"
  },
  "cells": [
    {
      "cell_type": "markdown",
      "source": [
        "# NLG Project: Making your own lyrics model"
      ],
      "metadata": {
        "id": "SdKP7hjD8oHL"
      }
    },
    {
      "cell_type": "markdown",
      "source": [
        "###Step 1. Make sure you have the data!"
      ],
      "metadata": {
        "id": "I1xWfuNY881d"
      }
    },
    {
      "cell_type": "code",
      "source": [
        "# use the os library with getcwd() method"
      ],
      "metadata": {
        "id": "xUp_02LN_25G"
      },
      "execution_count": null,
      "outputs": []
    },
    {
      "cell_type": "markdown",
      "source": [
        "###Step 2: Setup fastai, then import fastai and pandas."
      ],
      "metadata": {
        "id": "5Mms-Pfi9c3-"
      }
    },
    {
      "cell_type": "code",
      "metadata": {
        "id": "pBsJsHAcDzxs"
      },
      "source": [
        "!pip install -Uqq fastbook\n",
        "import fastbook\n",
        "fastbook.setup_book()"
      ],
      "execution_count": null,
      "outputs": []
    },
    {
      "cell_type": "code",
      "metadata": {
        "id": "UUlT9WyOD1gl"
      },
      "source": [
        "from fastbook import *\n",
        "from fastai.text.all import *"
      ],
      "execution_count": null,
      "outputs": []
    },
    {
      "cell_type": "code",
      "metadata": {
        "id": "RGrbEYvvD7Kt"
      },
      "source": [
        "import pandas as pd"
      ],
      "execution_count": null,
      "outputs": []
    },
    {
      "cell_type": "markdown",
      "metadata": {
        "id": "7yP5gfuRE5hx"
      },
      "source": [
        "### Step 3: Preprocess Data."
      ]
    },
    {
      "cell_type": "code",
      "source": [
        "# read in the data, check the data format"
      ],
      "metadata": {
        "id": "6gk7eXf3_KnT"
      },
      "execution_count": null,
      "outputs": []
    },
    {
      "cell_type": "code",
      "source": [
        "# rename the columns to align on a specific 'key'"
      ],
      "metadata": {
        "id": "BEW8zmyA_PaF"
      },
      "execution_count": null,
      "outputs": []
    },
    {
      "cell_type": "code",
      "source": [
        "# merge the data (similar to an inner join in SQL)"
      ],
      "metadata": {
        "id": "s3ElySOkieI1"
      },
      "execution_count": null,
      "outputs": []
    },
    {
      "cell_type": "code",
      "source": [
        "# get only english artists and relevant columns"
      ],
      "metadata": {
        "id": "Bc7hCpKS_e4F"
      },
      "execution_count": null,
      "outputs": []
    },
    {
      "cell_type": "code",
      "source": [
        "# drop all duplicate songs and reset the index "
      ],
      "metadata": {
        "id": "PPrmSF6h_pMv"
      },
      "execution_count": null,
      "outputs": []
    },
    {
      "cell_type": "code",
      "source": [
        "# get all artists with alot of songs (more variety if we have more data)"
      ],
      "metadata": {
        "id": "FITF9fGziiDN"
      },
      "execution_count": null,
      "outputs": []
    },
    {
      "cell_type": "code",
      "source": [
        "# index only a specific artist by the 'Artist' name"
      ],
      "metadata": {
        "id": "bvnMf02pABCZ"
      },
      "execution_count": null,
      "outputs": []
    },
    {
      "cell_type": "markdown",
      "metadata": {
        "id": "uF3rfL9ILLOA"
      },
      "source": [
        "### 4.Create dataloader using fastai."
      ]
    },
    {
      "cell_type": "markdown",
      "source": [
        "### Short lesson: Data and Model. \n",
        "\n",
        "##### The model: We will be creating a 'language model', which you can think of as a student that will learn how to write lyrics in the style of some artist.  **Model=Student.** \n",
        "\n",
        "##### The learning task: Using 'self-supervised learning' for teaching the student to learn songs without us having to specifically 'label' the song lyrics. Instead, it will learn to take a word in a song and guess the next one (eg. It will get the word \"Happy\" and try to guess \"Birthday\"). **The data will be able to 'label' itself since we will be giving it one word in a song, and make the student guess the next one.**\n",
        "\n",
        "##### Turn lyrics into something the computer can understand:\n",
        "1. Tokenize: Convert the song lyrics (string) into a list of words. As a simple example, \"happy birthday to you, happy birthday to you\" -> [\"happy\", \"birthday\", \"to\", \"you\", \",\", \"happy\", \"birthday\", \"to\", \"you\"]. \n",
        "2. Numericalize: Convert each word into a unique token (because the computer likes numbers). To continue the example, [\"happy\", \"birthday\", \"to\", \"you\", \",\", \"happy\", \"birthday\", \"to\", \"you\"] -> [0, 1, 2, 3, 4, 0, 1, 2, 3] where 0 = \"happy\", 1 = \"birthday\", 2 = \"to\", 3 = \"you\", 4 = \",\". \n",
        "3. Dataloaders: Finally, we will make the data for a 'guess next word student'. The way this works is that we give the student \"Happy\" with \"birthday\" as the correct answer (label), then \"birthday\" with \"to\" as the label, then \"to\" with \"you\" as the label and so on. **Student is given the first words in a song and is told to guess the second one. Then the student is given the second and guesses the third. This pattern continues multiple times.**\n",
        "\n",
        "You can think of the dataloaders as the books we are giving the student to learn from. The books contain questions and answers (similar to a math textbook) so that the student can learn when it is right and wrong. Remember: in this case the 'questions' in the textbook are one word in a song and the 'answer' is the next word in the song. "
      ],
      "metadata": {
        "id": "yOwoVRCOAMGc"
      }
    },
    {
      "cell_type": "code",
      "source": [
        "# create the datablock as a language model with 72 sequence length"
      ],
      "metadata": {
        "id": "2hnKijHXRevT"
      },
      "execution_count": null,
      "outputs": []
    },
    {
      "cell_type": "markdown",
      "source": [
        "### Short lesson: Optimizations.\n",
        "\n",
        "The dataloader uses a few tricks to speed up training the student. \n",
        "1. Sequence length: The student has limited memory so we need to break up the songs for them to learn. The sequence length represents how many words in a song we want the student to learn at a time. \n",
        "2. Batch size: This student is actually an alien from another planet that has the ability to learn multiple songs at the same time! The batch size represents how many songs we want the student to learn, all at the same time!"
      ],
      "metadata": {
        "id": "nFjOurDPK-Xx"
      }
    },
    {
      "cell_type": "code",
      "source": [
        "# create the dataloaders with batch size of 128"
      ],
      "metadata": {
        "id": "RrZkAGyeRmK4"
      },
      "execution_count": null,
      "outputs": []
    },
    {
      "cell_type": "markdown",
      "metadata": {
        "id": "yB0qZ-OfO-RH"
      },
      "source": [
        "# Train a model using transfer learning"
      ]
    },
    {
      "cell_type": "markdown",
      "source": [
        "### This is where the magic happens!\n",
        "Now, we put it all together. We give the student some songs for a particular artist and tell the student to start learning. Hopefully, the student will start to pick up on certain things from that artist's style as it learns. "
      ],
      "metadata": {
        "id": "bDmpLnbPNQn0"
      }
    },
    {
      "cell_type": "code",
      "source": [
        "# create a learner"
      ],
      "metadata": {
        "id": "oZLCOt1AR1si"
      },
      "execution_count": null,
      "outputs": []
    },
    {
      "cell_type": "code",
      "source": [
        "# fit for 5 epochs with lr of 0.004"
      ],
      "metadata": {
        "id": "A2baSKEqR70v"
      },
      "execution_count": null,
      "outputs": []
    },
    {
      "cell_type": "code",
      "source": [
        "# unfreeze and fit for 20 more epochs using lr_max=slice(3e-6, 3e-4)"
      ],
      "metadata": {
        "id": "dgsaRYUGR_LD"
      },
      "execution_count": null,
      "outputs": []
    },
    {
      "cell_type": "markdown",
      "source": [
        "### FYI: I lied.\n",
        "\n",
        "In reality, there is no...\n",
        "1. Student\n",
        "2. Songs books\n",
        "3. Magic learning\n",
        "\n",
        "There is actually...\n",
        "1. A pretrained deep learning model (LSTM)\n",
        "2. Song data formatted as pytorch tensors in dataloaders\n",
        "3. A learning cycle taking place, where an optimzer takes gradients and performs back propagation to 'teach' the LSTM\n",
        "\n",
        "There are also various NLP deep learning architectures (which are like sample students), called 'RNNs', 'LSTMs', 'GRUs', 'Transformers', etc. To be honest with you this isn't that important, as long as you understand the basics, you can build your way up to the rest :)"
      ],
      "metadata": {
        "id": "FY5gDL48P4zB"
      }
    },
    {
      "cell_type": "markdown",
      "metadata": {
        "id": "3v8sTDVXVlOU"
      },
      "source": [
        "# Predictions with Model"
      ]
    },
    {
      "cell_type": "code",
      "metadata": {
        "id": "NrvVHSD1V_-V"
      },
      "source": [
        "def get_most_complex(start_text, preds):\n",
        "  max_len = 0\n",
        "  max_i = -1\n",
        "  for i, pred in enumerate(preds):\n",
        "    pred_cardinality = len(set(pred.split()))\n",
        "    if pred_cardinality > max_len:\n",
        "      max_len = pred_cardinality\n",
        "      max_i = i\n",
        "  \n",
        "  return_str = preds[max_i]\n",
        "\n",
        "  val = -1\n",
        "  occurrence = len(start_text.split())\n",
        "  for i in range(0, occurrence):\n",
        "    val = return_str.find(' ', val + 1)\n",
        "\n",
        "  return start_text + return_str[val:return_str.rfind('.')+1]\n"
      ],
      "execution_count": null,
      "outputs": []
    },
    {
      "cell_type": "code",
      "metadata": {
        "id": "D0AIPXebX9QO",
        "outputId": "ef0df8fb-4f6e-4d39-cfb0-7ed4793d1851",
        "colab": {
          "base_uri": "https://localhost:8080/",
          "height": 53
        }
      },
      "source": [
        "start_text = \"Heyo this is it\"\n",
        "words = 60\n",
        "sentences = 5\n",
        "preds = [learn.predict(start_text, words, temperature=0.75)\n",
        "         for sentence in range(sentences)]\n",
        "\n",
        "get_most_complex(start_text, preds)"
      ],
      "execution_count": null,
      "outputs": [
        {
          "output_type": "display_data",
          "data": {
            "text/plain": [
              "<IPython.core.display.HTML object>"
            ],
            "text/html": [
              "\n",
              "<style>\n",
              "    /* Turns off some styling */\n",
              "    progress {\n",
              "        /* gets rid of default border in Firefox and Opera. */\n",
              "        border: none;\n",
              "        /* Needs to be in here for Safari polyfill so background images work as expected. */\n",
              "        background-size: auto;\n",
              "    }\n",
              "    .progress-bar-interrupted, .progress-bar-interrupted::-webkit-progress-bar {\n",
              "        background: #F44336;\n",
              "    }\n",
              "</style>\n"
            ]
          },
          "metadata": {}
        },
        {
          "output_type": "display_data",
          "data": {
            "text/plain": [
              "<IPython.core.display.HTML object>"
            ],
            "text/html": [
              ""
            ]
          },
          "metadata": {}
        },
        {
          "output_type": "display_data",
          "data": {
            "text/plain": [
              "<IPython.core.display.HTML object>"
            ],
            "text/html": [
              "\n",
              "<style>\n",
              "    /* Turns off some styling */\n",
              "    progress {\n",
              "        /* gets rid of default border in Firefox and Opera. */\n",
              "        border: none;\n",
              "        /* Needs to be in here for Safari polyfill so background images work as expected. */\n",
              "        background-size: auto;\n",
              "    }\n",
              "    .progress-bar-interrupted, .progress-bar-interrupted::-webkit-progress-bar {\n",
              "        background: #F44336;\n",
              "    }\n",
              "</style>\n"
            ]
          },
          "metadata": {}
        },
        {
          "output_type": "display_data",
          "data": {
            "text/plain": [
              "<IPython.core.display.HTML object>"
            ],
            "text/html": [
              ""
            ]
          },
          "metadata": {}
        },
        {
          "output_type": "display_data",
          "data": {
            "text/plain": [
              "<IPython.core.display.HTML object>"
            ],
            "text/html": [
              "\n",
              "<style>\n",
              "    /* Turns off some styling */\n",
              "    progress {\n",
              "        /* gets rid of default border in Firefox and Opera. */\n",
              "        border: none;\n",
              "        /* Needs to be in here for Safari polyfill so background images work as expected. */\n",
              "        background-size: auto;\n",
              "    }\n",
              "    .progress-bar-interrupted, .progress-bar-interrupted::-webkit-progress-bar {\n",
              "        background: #F44336;\n",
              "    }\n",
              "</style>\n"
            ]
          },
          "metadata": {}
        },
        {
          "output_type": "display_data",
          "data": {
            "text/plain": [
              "<IPython.core.display.HTML object>"
            ],
            "text/html": [
              ""
            ]
          },
          "metadata": {}
        },
        {
          "output_type": "display_data",
          "data": {
            "text/plain": [
              "<IPython.core.display.HTML object>"
            ],
            "text/html": [
              "\n",
              "<style>\n",
              "    /* Turns off some styling */\n",
              "    progress {\n",
              "        /* gets rid of default border in Firefox and Opera. */\n",
              "        border: none;\n",
              "        /* Needs to be in here for Safari polyfill so background images work as expected. */\n",
              "        background-size: auto;\n",
              "    }\n",
              "    .progress-bar-interrupted, .progress-bar-interrupted::-webkit-progress-bar {\n",
              "        background: #F44336;\n",
              "    }\n",
              "</style>\n"
            ]
          },
          "metadata": {}
        },
        {
          "output_type": "display_data",
          "data": {
            "text/plain": [
              "<IPython.core.display.HTML object>"
            ],
            "text/html": [
              ""
            ]
          },
          "metadata": {}
        },
        {
          "output_type": "display_data",
          "data": {
            "text/plain": [
              "<IPython.core.display.HTML object>"
            ],
            "text/html": [
              "\n",
              "<style>\n",
              "    /* Turns off some styling */\n",
              "    progress {\n",
              "        /* gets rid of default border in Firefox and Opera. */\n",
              "        border: none;\n",
              "        /* Needs to be in here for Safari polyfill so background images work as expected. */\n",
              "        background-size: auto;\n",
              "    }\n",
              "    .progress-bar-interrupted, .progress-bar-interrupted::-webkit-progress-bar {\n",
              "        background: #F44336;\n",
              "    }\n",
              "</style>\n"
            ]
          },
          "metadata": {}
        },
        {
          "output_type": "display_data",
          "data": {
            "text/plain": [
              "<IPython.core.display.HTML object>"
            ],
            "text/html": [
              ""
            ]
          },
          "metadata": {}
        },
        {
          "output_type": "execute_result",
          "data": {
            "text/plain": [
              "'Heyo this is it is an honest call to call attention to a new thing , and it can be seen when purpose and actions are given away to the naked eye .'"
            ],
            "application/vnd.google.colaboratory.intrinsic+json": {
              "type": "string"
            }
          },
          "metadata": {},
          "execution_count": 52
        }
      ]
    },
    {
      "cell_type": "markdown",
      "source": [
        "### How to learn more about machine learning, deep learning, and NLP?\n",
        "1. Start with some free kaggle courses. https://www.kaggle.com/learn. Would recommend all the courses there (no you don't need to do them all. Start with the basic Python one and go from there). They are all free and only take a few hours to complete so they are a great way to get started. \n",
        "2. Learn about deep learning with fastai deep learning for coders free course. **Most of the information I learned which is in this notebook is from there.** They have a course website with some video lessons which can be found here: https://course.fast.ai/, as well as a free textbook in the form of python notebooks (like what we are using right now) which can be found here: https://github.com/fastai/fastbook. This is an amazing course to learn about deep learning and I would really recommend it. \n",
        "3. After you learn enough, you should try to make your own projects (like this one that I made!)\n",
        "4. Finally, consider teaching others. This is a great way to make sure you learned the content well enough."
      ],
      "metadata": {
        "id": "KCXIgiIyT4VC"
      }
    },
    {
      "cell_type": "code",
      "metadata": {
        "id": "zrcLBrAHbp_c"
      },
      "source": [
        ""
      ],
      "execution_count": null,
      "outputs": []
    }
  ]
}